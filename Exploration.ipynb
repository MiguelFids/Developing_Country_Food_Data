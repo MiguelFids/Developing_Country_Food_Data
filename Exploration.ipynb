{
 "cells": [
  {
   "cell_type": "code",
   "execution_count": 1,
   "id": "945c064c",
   "metadata": {},
   "outputs": [],
   "source": [
    "import pandas as pd\n",
    "import numpy as np\n",
    "import matplotlib.pyplot as plt"
   ]
  },
  {
   "cell_type": "code",
   "execution_count": 2,
   "id": "843d7d31",
   "metadata": {},
   "outputs": [
    {
     "data": {
      "text/html": [
       "<div>\n",
       "<style scoped>\n",
       "    .dataframe tbody tr th:only-of-type {\n",
       "        vertical-align: middle;\n",
       "    }\n",
       "\n",
       "    .dataframe tbody tr th {\n",
       "        vertical-align: top;\n",
       "    }\n",
       "\n",
       "    .dataframe thead th {\n",
       "        text-align: right;\n",
       "    }\n",
       "</style>\n",
       "<table border=\"1\" class=\"dataframe\">\n",
       "  <thead>\n",
       "    <tr style=\"text-align: right;\">\n",
       "      <th></th>\n",
       "      <th>Domain Code</th>\n",
       "      <th>Domain</th>\n",
       "      <th>Area Code (M49)</th>\n",
       "      <th>Area</th>\n",
       "      <th>Element Code</th>\n",
       "      <th>Element</th>\n",
       "      <th>Item Code (CPC)</th>\n",
       "      <th>Item</th>\n",
       "      <th>Year Code</th>\n",
       "      <th>Year</th>\n",
       "      <th>Unit</th>\n",
       "      <th>Value</th>\n",
       "      <th>Flag</th>\n",
       "      <th>Flag Description</th>\n",
       "    </tr>\n",
       "  </thead>\n",
       "  <tbody>\n",
       "    <tr>\n",
       "      <th>0</th>\n",
       "      <td>TCL</td>\n",
       "      <td>Crops and livestock products</td>\n",
       "      <td>4</td>\n",
       "      <td>Afghanistan</td>\n",
       "      <td>5610</td>\n",
       "      <td>Import Quantity</td>\n",
       "      <td>0115</td>\n",
       "      <td>Barley</td>\n",
       "      <td>2015</td>\n",
       "      <td>2015</td>\n",
       "      <td>t</td>\n",
       "      <td>9198.09</td>\n",
       "      <td>T</td>\n",
       "      <td>Unofficial figure</td>\n",
       "    </tr>\n",
       "    <tr>\n",
       "      <th>1</th>\n",
       "      <td>TCL</td>\n",
       "      <td>Crops and livestock products</td>\n",
       "      <td>4</td>\n",
       "      <td>Afghanistan</td>\n",
       "      <td>5610</td>\n",
       "      <td>Import Quantity</td>\n",
       "      <td>0115</td>\n",
       "      <td>Barley</td>\n",
       "      <td>2016</td>\n",
       "      <td>2016</td>\n",
       "      <td>t</td>\n",
       "      <td>16385.39</td>\n",
       "      <td>T</td>\n",
       "      <td>Unofficial figure</td>\n",
       "    </tr>\n",
       "    <tr>\n",
       "      <th>2</th>\n",
       "      <td>TCL</td>\n",
       "      <td>Crops and livestock products</td>\n",
       "      <td>4</td>\n",
       "      <td>Afghanistan</td>\n",
       "      <td>5610</td>\n",
       "      <td>Import Quantity</td>\n",
       "      <td>0115</td>\n",
       "      <td>Barley</td>\n",
       "      <td>2017</td>\n",
       "      <td>2017</td>\n",
       "      <td>t</td>\n",
       "      <td>16383.10</td>\n",
       "      <td>A</td>\n",
       "      <td>Official figure</td>\n",
       "    </tr>\n",
       "    <tr>\n",
       "      <th>3</th>\n",
       "      <td>TCL</td>\n",
       "      <td>Crops and livestock products</td>\n",
       "      <td>4</td>\n",
       "      <td>Afghanistan</td>\n",
       "      <td>5610</td>\n",
       "      <td>Import Quantity</td>\n",
       "      <td>0115</td>\n",
       "      <td>Barley</td>\n",
       "      <td>2018</td>\n",
       "      <td>2018</td>\n",
       "      <td>t</td>\n",
       "      <td>18498.00</td>\n",
       "      <td>A</td>\n",
       "      <td>Official figure</td>\n",
       "    </tr>\n",
       "    <tr>\n",
       "      <th>4</th>\n",
       "      <td>TCL</td>\n",
       "      <td>Crops and livestock products</td>\n",
       "      <td>4</td>\n",
       "      <td>Afghanistan</td>\n",
       "      <td>5610</td>\n",
       "      <td>Import Quantity</td>\n",
       "      <td>0115</td>\n",
       "      <td>Barley</td>\n",
       "      <td>2019</td>\n",
       "      <td>2019</td>\n",
       "      <td>t</td>\n",
       "      <td>11927.00</td>\n",
       "      <td>A</td>\n",
       "      <td>Official figure</td>\n",
       "    </tr>\n",
       "  </tbody>\n",
       "</table>\n",
       "</div>"
      ],
      "text/plain": [
       "  Domain Code                        Domain  Area Code (M49)         Area  \\\n",
       "0         TCL  Crops and livestock products                4  Afghanistan   \n",
       "1         TCL  Crops and livestock products                4  Afghanistan   \n",
       "2         TCL  Crops and livestock products                4  Afghanistan   \n",
       "3         TCL  Crops and livestock products                4  Afghanistan   \n",
       "4         TCL  Crops and livestock products                4  Afghanistan   \n",
       "\n",
       "   Element Code          Element Item Code (CPC)    Item  Year Code  Year  \\\n",
       "0          5610  Import Quantity            0115  Barley       2015  2015   \n",
       "1          5610  Import Quantity            0115  Barley       2016  2016   \n",
       "2          5610  Import Quantity            0115  Barley       2017  2017   \n",
       "3          5610  Import Quantity            0115  Barley       2018  2018   \n",
       "4          5610  Import Quantity            0115  Barley       2019  2019   \n",
       "\n",
       "  Unit     Value Flag   Flag Description  \n",
       "0    t   9198.09    T  Unofficial figure  \n",
       "1    t  16385.39    T  Unofficial figure  \n",
       "2    t  16383.10    A    Official figure  \n",
       "3    t  18498.00    A    Official figure  \n",
       "4    t  11927.00    A    Official figure  "
      ]
     },
     "execution_count": 2,
     "metadata": {},
     "output_type": "execute_result"
    }
   ],
   "source": [
    "file = \"data/FAOSTAT_data_en_6-16-2023.csv\"\n",
    "csv = pd.read_csv(file)\n",
    "df = pd.DataFrame(csv)\n",
    "\n",
    "df.head()"
   ]
  },
  {
   "cell_type": "code",
   "execution_count": 3,
   "id": "bb971d99",
   "metadata": {},
   "outputs": [],
   "source": [
    "# Rename Features to remove white space\n",
    "df = df.rename(columns={\"Domain Code\":\"Domain_Code\",\"Flag Description\": \"Flag_Description\", \"Area Code (M49)\": \"Area_Code_(M49)\", \"Element Code\": \"Element_Code\", \"Item Code (CPC)\": \"Item_code_(CPC)\", \"Year Code\":\"Year_Code\"})"
   ]
  },
  {
   "cell_type": "code",
   "execution_count": 4,
   "id": "0df168ba",
   "metadata": {},
   "outputs": [
    {
     "data": {
      "text/plain": [
       "Domain_Code          object\n",
       "Domain               object\n",
       "Area_Code_(M49)       int64\n",
       "Area                 object\n",
       "Element_Code          int64\n",
       "Element              object\n",
       "Item_code_(CPC)      object\n",
       "Item                 object\n",
       "Year_Code             int64\n",
       "Year                  int64\n",
       "Unit                 object\n",
       "Value               float64\n",
       "Flag                 object\n",
       "Flag_Description     object\n",
       "dtype: object"
      ]
     },
     "execution_count": 4,
     "metadata": {},
     "output_type": "execute_result"
    }
   ],
   "source": [
    "df.dtypes"
   ]
  },
  {
   "cell_type": "code",
   "execution_count": 5,
   "id": "94cb69ae",
   "metadata": {},
   "outputs": [
    {
     "data": {
      "text/plain": [
       "0"
      ]
     },
     "execution_count": 5,
     "metadata": {},
     "output_type": "execute_result"
    }
   ],
   "source": [
    "df.isna().values.sum()"
   ]
  },
  {
   "cell_type": "code",
   "execution_count": 6,
   "id": "82b9f311",
   "metadata": {},
   "outputs": [
    {
     "data": {
      "text/plain": [
       "array(['Unofficial figure', 'Official figure',\n",
       "       'Figure from international organizations', 'Imputed value',\n",
       "       'Estimated value',\n",
       "       'Missing value (data cannot exist, not applicable)'], dtype=object)"
      ]
     },
     "execution_count": 6,
     "metadata": {},
     "output_type": "execute_result"
    }
   ],
   "source": [
    "df['Flag_Description'].unique()"
   ]
  },
  {
   "cell_type": "code",
   "execution_count": 7,
   "id": "70d3a609",
   "metadata": {},
   "outputs": [
    {
     "data": {
      "text/plain": [
       "array(['Unofficial figure', 'Official figure',\n",
       "       'Figure from international organizations', 'Imputed value',\n",
       "       'Estimated value'], dtype=object)"
      ]
     },
     "execution_count": 7,
     "metadata": {},
     "output_type": "execute_result"
    }
   ],
   "source": [
    "# Remove all Missing values in feature Flag_Description\n",
    "\n",
    "for row, col in df.iterrows():\n",
    "    if col.Flag_Description == \"Missing value (data cannot exist, not applicable)\":\n",
    "        df = df.drop(row)\n",
    "\n",
    "df['Flag_Description'].unique()"
   ]
  },
  {
   "cell_type": "code",
   "execution_count": 8,
   "id": "3453d90f",
   "metadata": {},
   "outputs": [],
   "source": [
    "# Can I remove features?\n",
    "# Domain_Code, Domain, Element_Code, Element, all yield the same value.\n",
    "# Year_Code == Year\n",
    "# Unit are all in tonnes \n",
    "\n",
    "df = df.drop(columns=[\"Domain_Code\", \"Domain\", \"Element_Code\", \"Year_Code\", \"Unit\", \"Element\"])"
   ]
  },
  {
   "cell_type": "code",
   "execution_count": 9,
   "id": "c07da0f1",
   "metadata": {},
   "outputs": [],
   "source": [
    "# Analysis on North Korea\n",
    "\n",
    "lst = []\n",
    "\n",
    "for row, col in df.iterrows():\n",
    "    if col.Area == \"Democratic People's Republic of Korea\":\n",
    "        lst.append(col)\n",
    "\n",
    "dprk = pd.DataFrame(lst)"
   ]
  },
  {
   "cell_type": "code",
   "execution_count": 10,
   "id": "3be3072f",
   "metadata": {},
   "outputs": [],
   "source": [
    "dprk = dprk.drop(columns=[\"Area\", \"Area_Code_(M49)\"])"
   ]
  },
  {
   "cell_type": "code",
   "execution_count": 11,
   "id": "ec6803da",
   "metadata": {},
   "outputs": [
    {
     "data": {
      "image/png": "[encoded data removed]",
      "text/plain": [
       "<Figure size 432x288 with 1 Axes>"
      ]
     },
     "metadata": {
      "needs_background": "light"
     },
     "output_type": "display_data"
    }
   ],
   "source": [
    "# Compare the Item and the Value (which is in tonnes)\n",
    "\n",
    "item_value = df[['Item','Value']]\n",
    "gb_item_value = item_value.groupby(\"Item\").sum()\n",
    "gb_item_value = gb_item_value.sort_values(by=\"Value\", ascending=False)\n",
    "\n",
    "# I want to make the gb_item_value index a column\n",
    "gb_item_value['Item'] = gb_item_value.index\n",
    "\n",
    "# Get only the top 10 imports\n",
    "\n",
    "dprk_top_10 = gb_item_value.iloc[:10]\n",
    "\n",
    "fig, ax = plt.subplots()\n",
    "ax.bar(dprk_top_10['Item'], dprk_top_10[\"Value\"])\n",
    "plt.xticks(rotation=90)\n",
    "plt.show()"
   ]
  },
  {
   "cell_type": "code",
   "execution_count": 19,
   "id": "895c9ea0",
   "metadata": {},
   "outputs": [],
   "source": [
    "# What was the rate of import for the feature 'Cereals, primary'?\n",
    "\n",
    "lst = []\n",
    "dprk_YIV = dprk[[\"Year\",\"Item\",\"Value\"]]\n",
    "\n",
    "for col, row in dprk_YIV.iterrows():\n",
    "    if row.Item == \"Cereals, primary\":\n",
    "        lst.append(row)\n",
    "\n",
    "tmp_df = pd.DataFrame(lst)\n",
    "lst = []"
   ]
  },
  {
   "cell_type": "code",
   "execution_count": 21,
   "id": "cd5c3b19",
   "metadata": {},
   "outputs": [
    {
     "data": {
      "text/plain": [
       "[<matplotlib.lines.Line2D at 0x25bb3048d00>]"
      ]
     },
     "execution_count": 21,
     "metadata": {},
     "output_type": "execute_result"
    },
    {
     "data": {
      "image/png": "[encoded data removed]",
      "text/plain": [
       "<Figure size 432x288 with 1 Axes>"
      ]
     },
     "metadata": {
      "needs_background": "light"
     },
     "output_type": "display_data"
    }
   ],
   "source": [
    "plt.plot(tmp_df['Year'], tmp_df['Value'])"
   ]
  }
 ],
 "metadata": {
  "kernelspec": {
   "display_name": "PythonData",
   "language": "python",
   "name": "pythondata"
  },
  "language_info": {
   "codemirror_mode": {
    "name": "ipython",
    "version": 3
   },
   "file_extension": ".py",
   "mimetype": "text/x-python",
   "name": "python",
   "nbconvert_exporter": "python",
   "pygments_lexer": "ipython3",
   "version": "3.9.12"
  }
 },
 "nbformat": 4,
 "nbformat_minor": 5
}
